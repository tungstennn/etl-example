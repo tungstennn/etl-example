{
 "cells": [
  {
   "cell_type": "code",
   "execution_count": 1,
   "metadata": {},
   "outputs": [],
   "source": [
    "import pandas as pd"
   ]
  },
  {
   "cell_type": "code",
   "execution_count": 2,
   "metadata": {},
   "outputs": [],
   "source": [
    "customers = pd.read_csv('../tests/test_data/test_customers.csv')"
   ]
  },
  {
   "cell_type": "code",
   "execution_count": 3,
   "metadata": {},
   "outputs": [
    {
     "name": "stdout",
     "output_type": "stream",
     "text": [
      "4723\n"
     ]
    }
   ],
   "source": [
    "# Drop rows with missing values in country and is_active\n",
    "\n",
    "customers = customers.dropna(subset=['country', 'is_active'])\n",
    "\n",
    "print(customers.shape[0])"
   ]
  },
  {
   "cell_type": "code",
   "execution_count": 4,
   "metadata": {},
   "outputs": [
    {
     "name": "stdout",
     "output_type": "stream",
     "text": [
      "4723\n"
     ]
    }
   ],
   "source": [
    "# Convert country to uppercase\n",
    "\n",
    "customers.loc[:, 'country'] = customers['country'].str.upper()\n",
    "\n",
    "print(customers.shape[0])"
   ]
  },
  {
   "cell_type": "code",
   "execution_count": 5,
   "metadata": {},
   "outputs": [
    {
     "name": "stdout",
     "output_type": "stream",
     "text": [
      "4723\n"
     ]
    }
   ],
   "source": [
    "# standardise is_active\n",
    "\n",
    "def standardise_is_active(value: str) -> bool:\n",
    "    if pd.isna(value):\n",
    "        return False\n",
    "    if isinstance(value, bool):\n",
    "        return value\n",
    "    if value.lower() in ['active', '1', 'true']:\n",
    "        return True\n",
    "    return False  # Default to False for any other cases\n",
    "    \n",
    "customers.loc[:, 'is_active'] = customers['is_active'].apply(\n",
    "        standardise_is_active\n",
    "    )\n",
    "\n",
    "print(customers.shape[0])"
   ]
  },
  {
   "cell_type": "code",
   "execution_count": 6,
   "metadata": {},
   "outputs": [
    {
     "name": "stdout",
     "output_type": "stream",
     "text": [
      "4587\n"
     ]
    }
   ],
   "source": [
    "# Drop duplicates\n",
    "\n",
    "customers = customers.drop_duplicates()\n",
    "\n",
    "print(customers.shape[0])"
   ]
  },
  {
   "cell_type": "code",
   "execution_count": 7,
   "metadata": {},
   "outputs": [],
   "source": [
    "customers.to_csv('../tests/test_data/expected_customers_clean_results.csv', index=False)"
   ]
  },
  {
   "cell_type": "code",
   "execution_count": null,
   "metadata": {},
   "outputs": [],
   "source": [
    "customers"
   ]
  }
 ],
 "metadata": {
  "kernelspec": {
   "display_name": ".venv",
   "language": "python",
   "name": "python3"
  },
  "language_info": {
   "codemirror_mode": {
    "name": "ipython",
    "version": 3
   },
   "file_extension": ".py",
   "mimetype": "text/x-python",
   "name": "python",
   "nbconvert_exporter": "python",
   "pygments_lexer": "ipython3",
   "version": "3.13.1"
  }
 },
 "nbformat": 4,
 "nbformat_minor": 2
}
