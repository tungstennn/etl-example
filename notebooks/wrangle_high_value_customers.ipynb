{
    "cells": [
        {
            "cell_type": "code",
            "execution_count": 1,
            "metadata": {},
            "outputs": [],
            "source": [
                "import pandas as pd"
            ]
        },
        {
            "cell_type": "code",
            "execution_count": 2,
            "metadata": {},
            "outputs": [],
            "source": [
                "# Get the processed dataset\n",
                "\n",
                "df = pd.read_csv('../etl/data/processed/merged_data.csv')"
            ]
        },
        {
            "cell_type": "code",
            "execution_count": 3,
            "metadata": {},
            "outputs": [
                {
                    "name": "stdout",
                    "output_type": "stream",
                    "text": [
                        "      customer_id  total_spent\n",
                        "0               1       664.27\n",
                        "1               2        41.98\n",
                        "2               3       326.52\n",
                        "3               4       373.57\n",
                        "4               5       540.85\n",
                        "...           ...          ...\n",
                        "3700         5192      1477.32\n",
                        "3701         5193       736.36\n",
                        "3702         5195       671.70\n",
                        "3703         5197      1173.74\n",
                        "3704         5200       332.39\n",
                        "\n",
                        "[3705 rows x 2 columns]\n"
                    ]
                }
            ],
            "source": [
                "# Calculate the total amount spent by each customer\n",
                "total_spent = df.groupby('customer_id')['amount'].sum().reset_index()\n",
                "\n",
                "# Rename the column to reflect the total spent\n",
                "total_spent.rename(columns={'amount': 'total_spent'}, inplace=True)\n",
                "\n",
                "# Display the result\n",
                "print(total_spent)"
            ]
        },
        {
            "cell_type": "code",
            "execution_count": 4,
            "metadata": {},
            "outputs": [
                {
                    "name": "stdout",
                    "output_type": "stream",
                    "text": [
                        "      customer_id  avg_transaction_value\n",
                        "0               1             221.423333\n",
                        "1               2              41.980000\n",
                        "2               3             163.260000\n",
                        "3               4             186.785000\n",
                        "4               5             270.425000\n",
                        "...           ...                    ...\n",
                        "3700         5192             369.330000\n",
                        "3701         5193             245.453333\n",
                        "3702         5195             167.925000\n",
                        "3703         5197             391.246667\n",
                        "3704         5200             332.390000\n",
                        "\n",
                        "[3705 rows x 2 columns]\n"
                    ]
                }
            ],
            "source": [
                "# Calculate the average transaction value for each customer\n",
                "avg_transaction_value = df.groupby('customer_id')['amount'].mean().reset_index()\n",
                "\n",
                "# Rename the column to reflect the average transaction value\n",
                "avg_transaction_value.rename(columns={'amount': 'avg_transaction_value'}, inplace=True)\n",
                "\n",
                "# Display the result\n",
                "print(avg_transaction_value)"
            ]
        },
        {
            "cell_type": "code",
            "execution_count": 5,
            "metadata": {},
            "outputs": [
                {
                    "name": "stdout",
                    "output_type": "stream",
                    "text": [
                        "      customer_id  total_spent  avg_transaction_value\n",
                        "0               1       664.27             221.423333\n",
                        "1               2        41.98              41.980000\n",
                        "2               3       326.52             163.260000\n",
                        "3               4       373.57             186.785000\n",
                        "4               5       540.85             270.425000\n",
                        "...           ...          ...                    ...\n",
                        "3700         5192      1477.32             369.330000\n",
                        "3701         5193       736.36             245.453333\n",
                        "3702         5195       671.70             167.925000\n",
                        "3703         5197      1173.74             391.246667\n",
                        "3704         5200       332.39             332.390000\n",
                        "\n",
                        "[3705 rows x 3 columns]\n",
                        "      customer_id  total_spent  avg_transaction_value               name  \\\n",
                        "0               1       664.27             221.423333       Allison Hill   \n",
                        "1               2        41.98              41.980000         Brian Yang   \n",
                        "2               3       326.52             163.260000     Javier Johnson   \n",
                        "3               4       373.57             186.785000      Lance Hoffman   \n",
                        "4               5       540.85             270.425000  Kimberly Robinson   \n",
                        "...           ...          ...                    ...                ...   \n",
                        "3700         5192      1477.32             369.330000     Laura Sullivan   \n",
                        "3701         5193       736.36             245.453333    Cheryl Franklin   \n",
                        "3702         5195       671.70             167.925000         Kelly Soto   \n",
                        "3703         5197      1173.74             391.246667    Eileen Silva MD   \n",
                        "3704         5200       332.39             332.390000    Stephen Johnson   \n",
                        "\n",
                        "       age  country  is_active  \n",
                        "0     32.0       UK      False  \n",
                        "1     53.0   FRANCE       True  \n",
                        "2     46.0    ITALY       True  \n",
                        "3     31.0       UK       True  \n",
                        "4     72.0   FRANCE       True  \n",
                        "...    ...      ...        ...  \n",
                        "3700  20.0  GERMANY      False  \n",
                        "3701  22.0    SPAIN       True  \n",
                        "3702  56.0    SPAIN      False  \n",
                        "3703  67.0    ITALY      False  \n",
                        "3704  23.0       UK       True  \n",
                        "\n",
                        "[3705 rows x 7 columns]\n"
                    ]
                }
            ],
            "source": [
                "# Merge the total_spent and avg_transaction_value datasets on 'customer_id'\n",
                "combined_df = pd.merge(total_spent, avg_transaction_value, on='customer_id')\n",
                "\n",
                "# Display the combined dataset\n",
                "print(combined_df)\n",
                "# Calculate the total amount spent and average transaction value for each customer directly from the original dataset\n",
                "combined_df = df.groupby('customer_id').agg(\n",
                "    total_spent=('amount', 'sum'),\n",
                "    avg_transaction_value=('amount', 'mean'),\n",
                "    name=('name', 'first'),\n",
                "    age=('age', 'first'),\n",
                "    country=('country', 'first'),\n",
                "    is_active=('is_active', 'first')\n",
                ").reset_index()\n",
                "\n",
                "# Display the combined dataset\n",
                "print(combined_df)"
            ]
        },
        {
            "cell_type": "code",
            "execution_count": 6,
            "metadata": {},
            "outputs": [],
            "source": [
                "# Save the results for expected test results\n",
                "\n",
                "combined_df.to_csv('../tests/test_data/expected_high_value_customers.csv', index=False)"
            ]
        }
    ],
    "metadata": {
        "kernelspec": {
            "display_name": ".venv",
            "language": "python",
            "name": "python3"
        },
        "language_info": {
            "codemirror_mode": {
                "name": "ipython",
                "version": 3
            },
            "file_extension": ".py",
            "mimetype": "text/x-python",
            "name": "python",
            "nbconvert_exporter": "python",
            "pygments_lexer": "ipython3",
            "version": "3.13.1"
        }
    },
    "nbformat": 4,
    "nbformat_minor": 2
}