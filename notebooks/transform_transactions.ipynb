{
 "cells": [
  {
   "cell_type": "code",
   "execution_count": 1,
   "metadata": {},
   "outputs": [],
   "source": [
    "import pandas as pd"
   ]
  },
  {
   "cell_type": "code",
   "execution_count": 2,
   "metadata": {},
   "outputs": [],
   "source": [
    "transactions = pd.read_csv('../tests/test_data/test_transactions.csv')"
   ]
  },
  {
   "cell_type": "markdown",
   "metadata": {},
   "source": [
    "### Transform and clean the transactions data"
   ]
  },
  {
   "cell_type": "markdown",
   "metadata": {},
   "source": [
    "#### Remove missing values"
   ]
  },
  {
   "cell_type": "code",
   "execution_count": 3,
   "metadata": {},
   "outputs": [
    {
     "name": "stdout",
     "output_type": "stream",
     "text": [
      "<class 'pandas.core.frame.DataFrame'>\n",
      "Index: 10246 entries, 0 to 10499\n",
      "Data columns (total 4 columns):\n",
      " #   Column            Non-Null Count  Dtype \n",
      "---  ------            --------------  ----- \n",
      " 0   transaction_id    10246 non-null  int64 \n",
      " 1   customer_id       10246 non-null  int64 \n",
      " 2   transaction_date  10246 non-null  object\n",
      " 3   amount            10246 non-null  object\n",
      "dtypes: int64(2), object(2)\n",
      "memory usage: 400.2+ KB\n"
     ]
    }
   ],
   "source": [
    "# remove rows with null values in transaction from the transaction dataframe\n",
    "transactions = transactions.dropna(subset=['transaction_date'])\n",
    "\n",
    "# remove rows with null values in amount from the transaction dataframe\n",
    "transactions = transactions.dropna(subset=['amount'])\n",
    "\n",
    "# See information about the transactions dataframe\n",
    "transactions.info()"
   ]
  },
  {
   "cell_type": "markdown",
   "metadata": {},
   "source": [
    "#### Remove invalid values"
   ]
  },
  {
   "cell_type": "code",
   "execution_count": 4,
   "metadata": {},
   "outputs": [],
   "source": [
    "# Remove rows with the value of \"INVALID\" in the amount column\n",
    "transactions = transactions[transactions['amount'] != 'INVALID']"
   ]
  },
  {
   "cell_type": "markdown",
   "metadata": {},
   "source": [
    "#### Standardise the date format"
   ]
  },
  {
   "cell_type": "code",
   "execution_count": 5,
   "metadata": {},
   "outputs": [
    {
     "name": "stdout",
     "output_type": "stream",
     "text": [
      "<class 'pandas.core.frame.DataFrame'>\n",
      "Index: 8977 entries, 0 to 10499\n",
      "Data columns (total 4 columns):\n",
      " #   Column            Non-Null Count  Dtype \n",
      "---  ------            --------------  ----- \n",
      " 0   transaction_id    8977 non-null   int64 \n",
      " 1   customer_id       8977 non-null   int64 \n",
      " 2   transaction_date  8977 non-null   object\n",
      " 3   amount            8977 non-null   object\n",
      "dtypes: int64(2), object(2)\n",
      "memory usage: 350.7+ KB\n"
     ]
    }
   ],
   "source": [
    "# Convert all dates into dd/mm/yyyy format - write function to handle the different types of date formats\n",
    "def standardise_date(date_str):\n",
    "    if pd.isna(date_str) or date_str == '':\n",
    "        return pd.NaT\n",
    "\n",
    "    formats = [\n",
    "        '%Y/%m/%d', '%Y-%m-%d', '%d %b %Y', '%b %d, %Y', '%d %B %Y',\n",
    "        '%d-%m-%Y', '%d/%m/%Y'\n",
    "    ]\n",
    "    for fmt in formats:\n",
    "        try:\n",
    "            return pd.to_datetime(date_str, format=fmt)\n",
    "        except ValueError:\n",
    "            continue\n",
    "\n",
    "    return pd.NaT\n",
    "\n",
    "\n",
    "# Apply the parse_date function to the transaction_date column\n",
    "transactions['transaction_date'] = (\n",
    "    transactions['transaction_date'].apply(standardise_date)\n",
    ")\n",
    "transactions['transaction_date'] = (\n",
    "    transactions['transaction_date'].dt.strftime('%d/%m/%Y')\n",
    ")\n",
    "\n",
    "transactions = transactions.dropna(subset=['transaction_date'])\n",
    "\n",
    "# Display the DataFrame info\n",
    "transactions.info()"
   ]
  },
  {
   "cell_type": "markdown",
   "metadata": {},
   "source": [
    "#### Remove any duplicates after cleaning and transforming"
   ]
  },
  {
   "cell_type": "code",
   "execution_count": 6,
   "metadata": {},
   "outputs": [
    {
     "name": "stdout",
     "output_type": "stream",
     "text": [
      "<class 'pandas.core.frame.DataFrame'>\n",
      "Index: 8534 entries, 0 to 9981\n",
      "Data columns (total 4 columns):\n",
      " #   Column            Non-Null Count  Dtype \n",
      "---  ------            --------------  ----- \n",
      " 0   transaction_id    8534 non-null   int64 \n",
      " 1   customer_id       8534 non-null   int64 \n",
      " 2   transaction_date  8534 non-null   object\n",
      " 3   amount            8534 non-null   object\n",
      "dtypes: int64(2), object(2)\n",
      "memory usage: 333.4+ KB\n"
     ]
    }
   ],
   "source": [
    "# Drop duplicates\n",
    "transactions.drop_duplicates(inplace=True)\n",
    "\n",
    "transactions.info()"
   ]
  },
  {
   "cell_type": "code",
   "execution_count": 7,
   "metadata": {},
   "outputs": [],
   "source": [
    "# Set the amount column to a float data type\n",
    "transactions['amount'] = transactions['amount'].astype(float)"
   ]
  },
  {
   "cell_type": "code",
   "execution_count": 8,
   "metadata": {},
   "outputs": [],
   "source": [
    "# export to results file\n",
    "transactions.to_csv('../tests/test_data/expected_transactions_clean_results.csv', index=False)"
   ]
  }
 ],
 "metadata": {
  "kernelspec": {
   "display_name": ".venv",
   "language": "python",
   "name": "python3"
  },
  "language_info": {
   "codemirror_mode": {
    "name": "ipython",
    "version": 3
   },
   "file_extension": ".py",
   "mimetype": "text/x-python",
   "name": "python",
   "nbconvert_exporter": "python",
   "pygments_lexer": "ipython3",
   "version": "3.13.1"
  }
 },
 "nbformat": 4,
 "nbformat_minor": 2
}
